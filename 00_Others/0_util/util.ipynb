{
  "cells": [
    {
      "cell_type": "code",
      "execution_count": null,
      "metadata": {},
      "outputs": [],
      "source": [
        "import torch\n",
        "import torch.utils.data as data\n",
        "import torchnet as tnt\n",
        "import numpy as np\n",
        "import pandas as pd\n",
        "import datetime as dt\n",
        "\n",
        "from sklearn.model_selection import KFold\n",
        "from sklearn.metrics import confusion_matrix\n",
        "from torch import Tensor\n",
        "import os\n",
        "import json\n",
        "import pickle as pkl\n",
        "import argparse\n",
        "import pprint"
      ]
    },
    {
      "cell_type": "code",
      "execution_count": null,
      "metadata": {},
      "outputs": [],
      "source": [
        "def data_len(path: str) -> int:\n",
        "  \"\"\"\"\"\n",
        "  It returns the number of sample\n",
        "  path: path to the dataset befor DATA folder\n",
        "  \"\"\"\"\"\n",
        "  data_folder = os.path.join(path, 'DATA')\n",
        "  l = [f for f in os.listdir(data_folder) if f.endswith('.npy')]\n",
        "  pid = [int(f.split('.')[0]) for f in l]\n",
        "  pid = list(np.sort(pid))\n",
        "  pid = list(map(str, pid))\n",
        "  len_data = len(pid) \n",
        "  return len_data\n",
        "\n",
        "\n",
        "def data_check(path: str) -> None:\n",
        "  \"\"\"\"\"\n",
        "  It checks the shape of each sample (it must be 3 dimension),\n",
        "   dimension 0 must be 24 and dimension 1 must be 10 \n",
        "  path: path to the dataset befor DATA folder\n",
        "  \"\"\"\"\"\n",
        "  data_folder = os.path.join(path, 'DATA')\n",
        "  l = [f for f in os.listdir(data_folder) if f.endswith('.npy')]\n",
        "  pid = [int(f.split('.')[0]) for f in l]\n",
        "  pid = list(np.sort(pid))\n",
        "  pid = list(map(str, pid))\n",
        "  len_data = len(pid) \n",
        "  for item in range(len_data):\n",
        "    print(\"pid[item]: \", pid[item])\n",
        "    x0 = np.load(os.path.join(path, 'DATA', '{}.npy'.format(pid[item])))  ##it returns Sample\n",
        "    if x0.ndim != 3:\n",
        "      print(\"Bpixel: \", pid[item], \", x0.shape: \", x0.shape, \", x0.ndim: \", x0.ndim)\n",
        "    if x0.shape[0] != 24 or x0.shape[1] != 10:\n",
        "      print(\"Bpixel: \", pid[item], \", x0.shape[0]: \", x0.shape[0], \", x0.shape[1]: \", x0.shape[1])\n",
        "\n",
        "\n",
        "\n"
      ]
    }
  ],
  "metadata": {
    "accelerator": "GPU",
    "colab": {
      "gpuType": "T4",
      "provenance": []
    },
    "kernelspec": {
      "display_name": "Python 3",
      "name": "python3"
    },
    "language_info": {
      "codemirror_mode": {
        "name": "ipython",
        "version": 3
      },
      "file_extension": ".py",
      "mimetype": "text/x-python",
      "name": "python",
      "nbconvert_exporter": "python",
      "pygments_lexer": "ipython3",
      "version": "3.8.10"
    }
  },
  "nbformat": 4,
  "nbformat_minor": 0
}
