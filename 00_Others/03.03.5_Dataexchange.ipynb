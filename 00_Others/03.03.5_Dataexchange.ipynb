{
 "cells": [
  {
   "cell_type": "code",
   "execution_count": 1,
   "id": "89a1a467-4584-44ae-ac7b-e35e90f4e3dc",
   "metadata": {},
   "outputs": [],
   "source": [
    "import numpy as np\n",
    "import os\n"
   ]
  },
  {
   "cell_type": "code",
   "execution_count": 2,
   "id": "2a40a2c9-a009-4d1e-a136-aa21674cb9fb",
   "metadata": {},
   "outputs": [],
   "source": [
    "###Load All data from the path\n",
    "def get_all_npy(path : str) -> dict:\n",
    "    files = dict()\n",
    "    for root, dir , _files in os.walk(path):\n",
    "        for file in _files:\n",
    "            if file.endswith(\".npy\"):\n",
    "                name = file.split(\".npy\")[0]\n",
    "                files[name] = os.path.join(root, file) \n",
    "    return files\n",
    "###It takes the list of data and then zeros out the required dates\n",
    "def elminate_date(npy_files : list,\n",
    "                 list_dates : list) -> np.array:\n",
    "    files_result = {}\n",
    "    for name , npy_file in npy_files.items():\n",
    "        data = np.load(npy_file)\n",
    "        for date in list_dates:\n",
    "            matrix_date = data[date]\n",
    "            data[date] = np.zeros(matrix_date.shape)\n",
    "        files_result[name] = data\n",
    "    return files_result\n"
   ]
  },
  {
   "cell_type": "code",
   "execution_count": 3,
   "id": "f47fde3d",
   "metadata": {},
   "outputs": [
    {
     "name": "stdout",
     "output_type": "stream",
     "text": [
      "npy_files:  {'5': '/home/mhbokaei/shakouri/test/RStest/dataset_folder/DATA/5.npy', '4': '/home/mhbokaei/shakouri/test/RStest/dataset_folder/DATA/4.npy', '3': '/home/mhbokaei/shakouri/test/RStest/dataset_folder/DATA/3.npy', '1': '/home/mhbokaei/shakouri/test/RStest/dataset_folder/DATA/1.npy'}\n",
      "data1.shape:  (24, 10, 1053)\n",
      "data1[15]:  [[0 0 0 ... 0 0 0]\n",
      " [0 0 0 ... 0 0 0]\n",
      " [0 0 0 ... 0 0 0]\n",
      " ...\n",
      " [0 0 0 ... 0 0 0]\n",
      " [0 0 0 ... 0 0 0]\n",
      " [0 0 0 ... 0 0 0]]\n"
     ]
    }
   ],
   "source": [
    "list_dates = [14, 15, 16]\n",
    "os.makedirs(\"/home/mhbokaei/shakouri/test/RStest/dataset_folder/DATA_zero\", exist_ok=True)\n",
    "npy_files = get_all_npy(\"/home/mhbokaei/shakouri/test/RStest/dataset_folder/DATA\")\n",
    "x = elminate_date(npy_files, list_dates)\n",
    "print(\"npy_files: \",npy_files)\n",
    "for file in x:\n",
    "    path = f\"/home/mhbokaei/shakouri/test/RStest/dataset_folder/DATA_zero/{file}.npy\"\n",
    "    np.save(path, x[file])\n",
    "\n",
    "data1 = np.load(\"/home/mhbokaei/shakouri/test/RStest/dataset_folder/DATA_zero/1.npy\")\n",
    "print(\"data1.shape: \",data1.shape)\n",
    "print(\"data1[15]: \",data1[15])"
   ]
  }
 ],
 "metadata": {
  "kernelspec": {
   "display_name": "Python 3 (ipykernel)",
   "language": "python",
   "name": "python3"
  },
  "language_info": {
   "codemirror_mode": {
    "name": "ipython",
    "version": 3
   },
   "file_extension": ".py",
   "mimetype": "text/x-python",
   "name": "python",
   "nbconvert_exporter": "python",
   "pygments_lexer": "ipython3",
   "version": "3.8.10"
  }
 },
 "nbformat": 4,
 "nbformat_minor": 5
}
